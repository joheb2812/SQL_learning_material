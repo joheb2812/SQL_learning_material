{
 "cells": [
  {
   "cell_type": "markdown",
   "metadata": {},
   "source": [
    "# Exceptional Handling\n",
    "\n",
    "## Syntax Error"
   ]
  },
  {
   "cell_type": "code",
   "execution_count": 3,
   "metadata": {},
   "outputs": [
    {
     "ename": "SyntaxError",
     "evalue": "invalid syntax (2619725853.py, line 4)",
     "output_type": "error",
     "traceback": [
      "\u001b[1;36m  File \u001b[1;32m\"C:\\Users\\Naroju.Supriya\\AppData\\Local\\Temp\\ipykernel_18876\\2619725853.py\"\u001b[1;36m, line \u001b[1;32m4\u001b[0m\n\u001b[1;33m    if(Anil>= Marks)\u001b[0m\n\u001b[1;37m                    ^\u001b[0m\n\u001b[1;31mSyntaxError\u001b[0m\u001b[1;31m:\u001b[0m invalid syntax\n"
     ]
    }
   ],
   "source": [
    "Anil = 10\n",
    "Marks = 40 \n",
    "\n",
    "if(Anil>= Marks)\n",
    "    print(\"'Anil' Passed Exam\")\n",
    "else:\n",
    "    print(\"'Anil' Failed in Exam\")\n"
   ]
  },
  {
   "cell_type": "markdown",
   "metadata": {},
   "source": [
    "## Exceptions"
   ]
  },
  {
   "cell_type": "code",
   "execution_count": 4,
   "metadata": {},
   "outputs": [
    {
     "ename": "ZeroDivisionError",
     "evalue": "division by zero",
     "output_type": "error",
     "traceback": [
      "\u001b[1;31m---------------------------------------------------------------------------\u001b[0m",
      "\u001b[1;31mZeroDivisionError\u001b[0m                         Traceback (most recent call last)",
      "\u001b[1;32m~\\AppData\\Local\\Temp\\ipykernel_18876\\308896408.py\u001b[0m in \u001b[0;36m<module>\u001b[1;34m\u001b[0m\n\u001b[0;32m      2\u001b[0m \u001b[1;33m\u001b[0m\u001b[0m\n\u001b[0;32m      3\u001b[0m \u001b[1;31m# performing division with 0\u001b[0m\u001b[1;33m\u001b[0m\u001b[1;33m\u001b[0m\u001b[0m\n\u001b[1;32m----> 4\u001b[1;33m \u001b[0mr\u001b[0m \u001b[1;33m=\u001b[0m \u001b[0mm\u001b[0m \u001b[1;33m/\u001b[0m \u001b[1;36m0\u001b[0m\u001b[1;33m\u001b[0m\u001b[1;33m\u001b[0m\u001b[0m\n\u001b[0m\u001b[0;32m      5\u001b[0m \u001b[0mprint\u001b[0m\u001b[1;33m(\u001b[0m\u001b[0mr\u001b[0m\u001b[1;33m)\u001b[0m\u001b[1;33m\u001b[0m\u001b[1;33m\u001b[0m\u001b[0m\n",
      "\u001b[1;31mZeroDivisionError\u001b[0m: division by zero"
     ]
    }
   ],
   "source": [
    "m = 40\n",
    " \n",
    "# performing division with 0\n",
    "r = m / 0\n",
    "print(r)"
   ]
  },
  {
   "cell_type": "markdown",
   "metadata": {},
   "source": [
    "## Try and Except Statement"
   ]
  },
  {
   "cell_type": "code",
   "execution_count": 6,
   "metadata": {},
   "outputs": [
    {
     "name": "stdout",
     "output_type": "stream",
     "text": [
      "1 8\n",
      "1 7\n"
     ]
    }
   ],
   "source": [
    "# Python program to handle simple runtime error\n",
    "a=[1,7,6]\n",
    "b=[3,7,8]\n",
    "\n",
    "try:\n",
    "    print(a[0], b[2])\n",
    "    print(a[4],b[3])\n",
    "except:\n",
    "    print(a[0],b[1])\n",
    "else:\n",
    "    print(\"An error Occured\")"
   ]
  },
  {
   "cell_type": "code",
   "execution_count": 4,
   "metadata": {},
   "outputs": [
    {
     "name": "stdout",
     "output_type": "stream",
     "text": [
      "ZeroDivisionError Occurred\n"
     ]
    }
   ],
   "source": [
    "# Program to handle multiple errors with one\n",
    "# except statement\n",
    "\n",
    " \n",
    "def fun(a):\n",
    "    if a < 4:\n",
    " \n",
    "        # throws ZeroDivisionError for a = 3\n",
    "        b = a/(a-3)\n",
    " \n",
    "    # throws NameError if a >= 4\n",
    "    print(\"Value of b = \", b)\n",
    "     \n",
    "try:\n",
    "    fun(3)\n",
    "    fun(5)\n",
    " \n",
    "# note that braces () are necessary here for\n",
    "# multiple exceptions\n",
    "except ZeroDivisionError:\n",
    "    print(\"ZeroDivisionError Occurred\")\n",
    "except NameError:\n",
    "    print(\"NameError Occurred\")"
   ]
  },
  {
   "cell_type": "markdown",
   "metadata": {},
   "source": [
    "## Try with Else Clause"
   ]
  },
  {
   "cell_type": "code",
   "execution_count": 7,
   "metadata": {},
   "outputs": [
    {
     "name": "stdout",
     "output_type": "stream",
     "text": [
      "-5.0\n",
      "a/b result in 0\n"
     ]
    }
   ],
   "source": [
    "# Program to depict else clause with try-except\n",
    "# Function which returns a/b\n",
    "def AbyB(a , b):\n",
    "    try:\n",
    "        c = ((a+b) / (a-b))\n",
    "    except ZeroDivisionError:\n",
    "        print (\"a/b result in 0\")\n",
    "    else:\n",
    "        print (c)\n",
    " \n",
    "# Driver program to test above function\n",
    "AbyB(2.0, 3.0)\n",
    "AbyB(3.0, 3.0)"
   ]
  },
  {
   "cell_type": "markdown",
   "metadata": {},
   "source": [
    "## Finally Keyword"
   ]
  },
  {
   "cell_type": "code",
   "execution_count": 9,
   "metadata": {},
   "outputs": [
    {
     "name": "stdout",
     "output_type": "stream",
     "text": [
      "Enter a number: 5\n",
      "we are not catching the exception\n",
      "The inverse:  0.2\n"
     ]
    }
   ],
   "source": [
    "#Try with final block without except block\n",
    "\n",
    "try:\n",
    "    x=int(input('Enter a number: '))\n",
    "    y=1/x\n",
    "finally:\n",
    "    print(\"we are not catching the exception\")\n",
    "print(\"The inverse: \",y)"
   ]
  },
  {
   "cell_type": "code",
   "execution_count": 6,
   "metadata": {},
   "outputs": [
    {
     "name": "stdout",
     "output_type": "stream",
     "text": [
      "Can't divide by zero\n",
      "This is always executed\n"
     ]
    }
   ],
   "source": [
    "# Python program to demonstrate finally\n",
    " \n",
    "# No exception Exception raised in try block\n",
    "try:\n",
    "    k = 5//0  # raises divide by zero exception.\n",
    "    print(k)\n",
    " \n",
    "# handles zerodivision exception\n",
    "except ZeroDivisionError:\n",
    "    print(\"Can't divide by zero\")\n",
    " \n",
    "finally:\n",
    "    # this block is always executed\n",
    "    # regardless of exception generation.\n",
    "    print('This is always executed')"
   ]
  },
  {
   "cell_type": "markdown",
   "metadata": {},
   "source": [
    "## Logging "
   ]
  },
  {
   "cell_type": "code",
   "execution_count": 10,
   "metadata": {},
   "outputs": [
    {
     "name": "stderr",
     "output_type": "stream",
     "text": [
      "WARNING:root:The warning message is displaying\n",
      "ERROR:root:The error message is displaying\n",
      "CRITICAL:root:The critical message is displaying\n"
     ]
    }
   ],
   "source": [
    "import logging  \n",
    "  \n",
    "logging.debug('The debug message is displaying')  \n",
    "logging.info('The info message is displaying')  \n",
    "logging.warning('The warning message is displaying')  \n",
    "logging.error('The error message is displaying')  \n",
    "logging.critical('The critical message is displaying')  "
   ]
  },
  {
   "cell_type": "code",
   "execution_count": 8,
   "metadata": {},
   "outputs": [],
   "source": [
    "import logging  \n",
    "  \n",
    "logging.basicConfig(level=logging.DEBUG)    \n",
    "logging.debug('The dubug message is logged')  "
   ]
  },
  {
   "cell_type": "code",
   "execution_count": 11,
   "metadata": {},
   "outputs": [
    {
     "name": "stderr",
     "output_type": "stream",
     "text": [
      "WARNING:root:This will get logged to a file\n"
     ]
    }
   ],
   "source": [
    "import logging  \n",
    "  \n",
    "logging.basicConfig(filename='msg.log', filemode='w', format='%(name)s - %(levelname)s - %(message)s')  \n",
    "logging.warning('This will get logged to a file')  "
   ]
  },
  {
   "cell_type": "markdown",
   "metadata": {},
   "source": [
    "## Python Regular Expression"
   ]
  },
  {
   "cell_type": "code",
   "execution_count": 13,
   "metadata": {},
   "outputs": [
    {
     "name": "stdout",
     "output_type": "stream",
     "text": [
      "Search successful.\n"
     ]
    }
   ],
   "source": [
    "import re\n",
    "\n",
    "pattern = '^a...s$'\n",
    "test_string = 'abyss'\n",
    "result = re.match(pattern, test_string)\n",
    "\n",
    "if result:\n",
    "  print(\"Search successful.\")\n",
    "else:\n",
    "  print(\"Search unsuccessful.\")"
   ]
  },
  {
   "cell_type": "markdown",
   "metadata": {},
   "source": [
    "## re.findall()"
   ]
  },
  {
   "cell_type": "code",
   "execution_count": 11,
   "metadata": {},
   "outputs": [
    {
     "name": "stdout",
     "output_type": "stream",
     "text": [
      "['12', '89', '34']\n"
     ]
    }
   ],
   "source": [
    "# Program to extract numbers from a string\n",
    "\n",
    "import re\n",
    "\n",
    "string = 'hello 12 hi 89. Howdy 34'\n",
    "pattern = '\\d+'\n",
    "\n",
    "result = re.findall(pattern, string) \n",
    "print(result)"
   ]
  },
  {
   "cell_type": "markdown",
   "metadata": {},
   "source": [
    "## re.split()"
   ]
  },
  {
   "cell_type": "code",
   "execution_count": null,
   "metadata": {},
   "outputs": [],
   "source": [
    "#split the string into pi"
   ]
  },
  {
   "cell_type": "code",
   "execution_count": 13,
   "metadata": {},
   "outputs": [
    {
     "name": "stdout",
     "output_type": "stream",
     "text": [
      "['Twelve:', ' Eighty nine:', '.']\n"
     ]
    }
   ],
   "source": [
    "import re\n",
    "\n",
    "string = 'Twelve:12 Eighty nine:89.'\n",
    "pattern = '\\d+'\n",
    "\n",
    "result = re.split(pattern, string) \n",
    "print(result)"
   ]
  },
  {
   "cell_type": "markdown",
   "metadata": {},
   "source": [
    "## re.sub()"
   ]
  },
  {
   "cell_type": "code",
   "execution_count": 15,
   "metadata": {},
   "outputs": [
    {
     "name": "stdout",
     "output_type": "stream",
     "text": [
      "abc12de23f456\n"
     ]
    }
   ],
   "source": [
    "# Program to remove all whitespaces\n",
    "import re\n",
    "\n",
    "# multiline string\n",
    "string = 'abc 12\\\n",
    "de 23 \\n f45 6'\n",
    "\n",
    "# matches all whitespace characters\n",
    "pattern = '\\s+'\n",
    "\n",
    "# empty string\n",
    "replace = ''\n",
    "\n",
    "new_string = re.sub(pattern, replace, string) \n",
    "print(new_string)"
   ]
  },
  {
   "cell_type": "markdown",
   "metadata": {},
   "source": [
    "## re.subn()"
   ]
  },
  {
   "cell_type": "code",
   "execution_count": 16,
   "metadata": {},
   "outputs": [
    {
     "name": "stdout",
     "output_type": "stream",
     "text": [
      "('abc12de23f456', 4)\n"
     ]
    }
   ],
   "source": [
    "\n",
    "# Program to remove all whitespaces\n",
    "import re\n",
    "\n",
    "# multiline string\n",
    "string = 'abc 12\\\n",
    "de 23 \\n f45 6'\n",
    "\n",
    "# matches all whitespace characters\n",
    "pattern = '\\s+'\n",
    "\n",
    "# empty string\n",
    "replace = ''\n",
    "\n",
    "new_string = re.subn(pattern, replace, string) \n",
    "print(new_string)"
   ]
  },
  {
   "cell_type": "markdown",
   "metadata": {},
   "source": [
    "## re.search()"
   ]
  },
  {
   "cell_type": "code",
   "execution_count": 17,
   "metadata": {},
   "outputs": [
    {
     "name": "stdout",
     "output_type": "stream",
     "text": [
      "pattern found inside the string\n"
     ]
    }
   ],
   "source": [
    "\n",
    "import re\n",
    "\n",
    "string = \"Python is fun\"\n",
    "\n",
    "# check if 'Python' is at the beginning\n",
    "match = re.search('\\APython', string)\n",
    "\n",
    "if match:\n",
    "  print(\"pattern found inside the string\")\n",
    "else:\n",
    "  print(\"pattern not found\")  "
   ]
  },
  {
   "cell_type": "code",
   "execution_count": null,
   "metadata": {},
   "outputs": [],
   "source": []
  }
 ],
 "metadata": {
  "kernelspec": {
   "display_name": "Python 3",
   "language": "python",
   "name": "python3"
  },
  "language_info": {
   "codemirror_mode": {
    "name": "ipython",
    "version": 3
   },
   "file_extension": ".py",
   "mimetype": "text/x-python",
   "name": "python",
   "nbconvert_exporter": "python",
   "pygments_lexer": "ipython3",
   "version": "3.8.10"
  }
 },
 "nbformat": 4,
 "nbformat_minor": 5
}
