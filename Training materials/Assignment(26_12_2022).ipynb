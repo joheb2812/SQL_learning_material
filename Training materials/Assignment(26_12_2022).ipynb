{
  "nbformat": 4,
  "nbformat_minor": 0,
  "metadata": {
    "colab": {
      "provenance": []
    },
    "kernelspec": {
      "name": "python3",
      "display_name": "Python 3"
    },
    "language_info": {
      "name": "python"
    }
  },
  "cells": [
    {
      "cell_type": "markdown",
      "source": [
        "a=100, b=222, compute bitwise and value"
      ],
      "metadata": {
        "id": "mksttooUBuO6"
      }
    },
    {
      "cell_type": "code",
      "source": [
        "#Bitwise AND\n",
        "a=100\n",
        "b=222\n",
        "print(bin(100));print(bin(222))\n",
        "c=a&b\n",
        "print(bin(c))\n",
        "print(c)\n"
      ],
      "metadata": {
        "colab": {
          "base_uri": "https://localhost:8080/"
        },
        "id": "cEkvfARFBriE",
        "outputId": "940bf609-e914-405e-af40-fb463dd13e60"
      },
      "execution_count": null,
      "outputs": [
        {
          "output_type": "stream",
          "name": "stdout",
          "text": [
            "0b1100100\n",
            "0b11011110\n",
            "0b1000100\n",
            "68\n"
          ]
        }
      ]
    },
    {
      "cell_type": "code",
      "source": [
        "#Bitwise OR\n",
        "a =100\n",
        "b=222\n",
        "print(bin(a));print(bin(b))\n",
        "c=a|b\n",
        "print(c)"
      ],
      "metadata": {
        "colab": {
          "base_uri": "https://localhost:8080/"
        },
        "id": "9jzCAnDlFRPp",
        "outputId": "a691dc4f-9252-42f7-96d0-d9051e407f8f"
      },
      "execution_count": null,
      "outputs": [
        {
          "output_type": "stream",
          "name": "stdout",
          "text": [
            "0b1100100\n",
            "0b11011110\n",
            "254\n"
          ]
        }
      ]
    },
    {
      "cell_type": "code",
      "source": [
        "a=100\n",
        "b=222\n",
        "print(bin(a));print(bin(b))\n",
        "c=a^b\n",
        "print(c)"
      ],
      "metadata": {
        "colab": {
          "base_uri": "https://localhost:8080/"
        },
        "id": "yY9XbRcYFkR-",
        "outputId": "d4f82254-b0dd-4838-dfde-e76557dba887"
      },
      "execution_count": null,
      "outputs": [
        {
          "output_type": "stream",
          "name": "stdout",
          "text": [
            "0b1100100\n",
            "0b11011110\n",
            "186\n"
          ]
        }
      ]
    },
    {
      "cell_type": "code",
      "source": [
        "a=100\n",
        "b=222\n",
        "print(bin(a));print(bin(b))\n",
        "print(~a);print(~b)"
      ],
      "metadata": {
        "colab": {
          "base_uri": "https://localhost:8080/"
        },
        "id": "S-JbkeARKqHi",
        "outputId": "776a4b24-2b8e-4e31-8e6c-9d8ad0e0d267"
      },
      "execution_count": null,
      "outputs": [
        {
          "output_type": "stream",
          "name": "stdout",
          "text": [
            "0b1100100\n",
            "0b11011110\n",
            "-101\n",
            "-223\n"
          ]
        }
      ]
    },
    {
      "cell_type": "code",
      "source": [],
      "metadata": {
        "id": "96gFUd73Kyij"
      },
      "execution_count": null,
      "outputs": []
    }
  ]
}