{
  "nbformat": 4,
  "nbformat_minor": 0,
  "metadata": {
    "colab": {
      "provenance": []
    },
    "kernelspec": {
      "name": "python3",
      "display_name": "Python 3"
    },
    "language_info": {
      "name": "python"
    }
  },
  "cells": [
    {
      "cell_type": "code",
      "execution_count": null,
      "metadata": {
        "id": "5rjvu80RTVMw"
      },
      "outputs": [],
      "source": []
    },
    {
      "cell_type": "code",
      "source": [
        "print(\"Welcome to python Coding\")\n",
        "print('Welcome to Python coding')\n",
        "print('''Welcome to Python coding''')\n",
        "print(\"\"\"Welcome to Python coding\"\"\") \n"
      ],
      "metadata": {
        "colab": {
          "base_uri": "https://localhost:8080/"
        },
        "id": "337V5rrVWczO",
        "outputId": "5d8a5840-5528-43f6-8fcd-61481b5df674"
      },
      "execution_count": null,
      "outputs": [
        {
          "output_type": "stream",
          "name": "stdout",
          "text": [
            "Welcome to python Coding\n",
            "Welcome to Python coding\n",
            "Welcome to Python coding\n",
            "Welcome to Python coding\n",
            "WelcometoPythoncoding\n"
          ]
        }
      ]
    },
    {
      "cell_type": "code",
      "source": [
        "print(\"Welcome to 'python' Coding\")\n",
        "print('Welcome to \"python\" Coding')\n",
        "print('''Welcome to \"python\" Coding''')\n",
        "print(\"\"\"Welcome to \"python\" Coding\"\"\")\n",
        "print(\"Welcome to 'Python' Coding\")\n",
        "print(\"\"\"Welcome to '''Python''' coding\"\"\")"
      ],
      "metadata": {
        "colab": {
          "base_uri": "https://localhost:8080/"
        },
        "id": "-fZQR92xXtHP",
        "outputId": "fda7c099-be73-4089-99ce-8bf71401e9e9"
      },
      "execution_count": null,
      "outputs": [
        {
          "output_type": "stream",
          "name": "stdout",
          "text": [
            "Welcome to 'python' Coding\n",
            "Welcome to \"python\" Coding\n",
            "Welcome to \"python\" Coding\n",
            "Welcome to \"python\" Coding\n",
            "Welcome to 'Python' Coding\n",
            "Welcome to '''Python''' coding\n"
          ]
        }
      ]
    },
    {
      "cell_type": "code",
      "source": [
        "print(\"Welcome to \"python\" coding\")"
      ],
      "metadata": {
        "colab": {
          "base_uri": "https://localhost:8080/",
          "height": 130
        },
        "id": "NvaVgNBPYZEk",
        "outputId": "9c148c5f-ca1a-4696-a01d-8c1171c535e8"
      },
      "execution_count": null,
      "outputs": [
        {
          "output_type": "error",
          "ename": "SyntaxError",
          "evalue": "ignored",
          "traceback": [
            "\u001b[0;36m  File \u001b[0;32m\"<ipython-input-20-5af538b64d18>\"\u001b[0;36m, line \u001b[0;32m1\u001b[0m\n\u001b[0;31m    print(\"Welcome to \"python\" coding\")\u001b[0m\n\u001b[0m                       ^\u001b[0m\n\u001b[0;31mSyntaxError\u001b[0m\u001b[0;31m:\u001b[0m invalid syntax\n"
          ]
        }
      ]
    },
    {
      "cell_type": "code",
      "source": [
        "print('Welcome to 'python' coding')"
      ],
      "metadata": {
        "colab": {
          "base_uri": "https://localhost:8080/",
          "height": 130
        },
        "id": "R4uxMNQoZMJ6",
        "outputId": "48f20e0d-50c3-4baf-a896-8c4a6bfed97b"
      },
      "execution_count": null,
      "outputs": [
        {
          "output_type": "error",
          "ename": "SyntaxError",
          "evalue": "ignored",
          "traceback": [
            "\u001b[0;36m  File \u001b[0;32m\"<ipython-input-21-b0d3c181a568>\"\u001b[0;36m, line \u001b[0;32m1\u001b[0m\n\u001b[0;31m    print('Welcome to 'python' coding')\u001b[0m\n\u001b[0m                       ^\u001b[0m\n\u001b[0;31mSyntaxError\u001b[0m\u001b[0;31m:\u001b[0m invalid syntax\n"
          ]
        }
      ]
    },
    {
      "cell_type": "code",
      "source": [
        "print(\"\"\"Welcome to \"\"\"python\"\"\" coding\"\"\")"
      ],
      "metadata": {
        "colab": {
          "base_uri": "https://localhost:8080/",
          "height": 130
        },
        "id": "-D05h6e8ZUz_",
        "outputId": "314fd5f9-ac26-4b4e-903e-3d8c84013de8"
      },
      "execution_count": null,
      "outputs": [
        {
          "output_type": "error",
          "ename": "SyntaxError",
          "evalue": "ignored",
          "traceback": [
            "\u001b[0;36m  File \u001b[0;32m\"<ipython-input-22-905833cdb669>\"\u001b[0;36m, line \u001b[0;32m1\u001b[0m\n\u001b[0;31m    print(\"\"\"Welcome to \"\"\"python\"\"\" coding\"\"\")\u001b[0m\n\u001b[0m                           ^\u001b[0m\n\u001b[0;31mSyntaxError\u001b[0m\u001b[0;31m:\u001b[0m invalid syntax\n"
          ]
        }
      ]
    },
    {
      "cell_type": "code",
      "source": [
        "print('''Welcome to '''Python''' Coding''')"
      ],
      "metadata": {
        "colab": {
          "base_uri": "https://localhost:8080/",
          "height": 130
        },
        "id": "qw6w_TCZZdit",
        "outputId": "d1481aa4-d676-4994-9610-f026f77cca9b"
      },
      "execution_count": null,
      "outputs": [
        {
          "output_type": "error",
          "ename": "SyntaxError",
          "evalue": "ignored",
          "traceback": [
            "\u001b[0;36m  File \u001b[0;32m\"<ipython-input-23-35a90f8ec4fd>\"\u001b[0;36m, line \u001b[0;32m1\u001b[0m\n\u001b[0;31m    print('''Welcome to '''Python''' Coding''')\u001b[0m\n\u001b[0m                           ^\u001b[0m\n\u001b[0;31mSyntaxError\u001b[0m\u001b[0;31m:\u001b[0m invalid syntax\n"
          ]
        }
      ]
    },
    {
      "cell_type": "code",
      "source": [
        "print(\"Welcome to \\\"python\\\" Coding\")"
      ],
      "metadata": {
        "colab": {
          "base_uri": "https://localhost:8080/"
        },
        "id": "yBAmErTTZjUX",
        "outputId": "6070b387-ed02-4b56-c31e-a8a870e63cde"
      },
      "execution_count": null,
      "outputs": [
        {
          "output_type": "stream",
          "name": "stdout",
          "text": [
            "Welcome to \"python\" Coding\n"
          ]
        }
      ]
    },
    {
      "cell_type": "code",
      "source": [
        "print('Welcome to \\'Python\\' Coding')"
      ],
      "metadata": {
        "colab": {
          "base_uri": "https://localhost:8080/"
        },
        "id": "jbB4S4V0ZtCr",
        "outputId": "b8cc2bdc-d7b6-4e52-f4e6-7607b98c745c"
      },
      "execution_count": null,
      "outputs": [
        {
          "output_type": "stream",
          "name": "stdout",
          "text": [
            "Welcome to 'Python' Coding\n"
          ]
        }
      ]
    },
    {
      "cell_type": "code",
      "source": [
        "print(\"\"\"Welcome to \\\"\"\"python\\\"\"\" Coding\"\"\")"
      ],
      "metadata": {
        "colab": {
          "base_uri": "https://localhost:8080/"
        },
        "id": "fiRB3e0JZ6dp",
        "outputId": "b50658a3-b811-4136-ef9c-c8901fd8c7a0"
      },
      "execution_count": null,
      "outputs": [
        {
          "output_type": "stream",
          "name": "stdout",
          "text": [
            "Welcome to \"\"\"python\"\"\" Coding\n"
          ]
        }
      ]
    },
    {
      "cell_type": "code",
      "source": [
        "print('''Welcome to \\'''python\\''' Coding''')"
      ],
      "metadata": {
        "colab": {
          "base_uri": "https://localhost:8080/"
        },
        "id": "RLGMGktYaNzs",
        "outputId": "5bea47fb-fe9f-40cb-c2f9-1ca9d07dc281"
      },
      "execution_count": null,
      "outputs": [
        {
          "output_type": "stream",
          "name": "stdout",
          "text": [
            "Welcome to '''python''' Coding\n"
          ]
        }
      ]
    },
    {
      "cell_type": "code",
      "source": [
        "print(\"Hello welcome to \\\n",
        "Python Coding\")"
      ],
      "metadata": {
        "colab": {
          "base_uri": "https://localhost:8080/"
        },
        "id": "eJgvApxEaXFs",
        "outputId": "d4d9451b-5316-41ae-d571-901033d31ff1"
      },
      "execution_count": null,
      "outputs": [
        {
          "output_type": "stream",
          "name": "stdout",
          "text": [
            "Hello welcome to Python Coding\n"
          ]
        }
      ]
    },
    {
      "cell_type": "code",
      "source": [
        "print(12345)"
      ],
      "metadata": {
        "colab": {
          "base_uri": "https://localhost:8080/"
        },
        "id": "Ixot9ktValvP",
        "outputId": "fd2dbf27-8aea-41b2-baad-c07b7f988df5"
      },
      "execution_count": null,
      "outputs": [
        {
          "output_type": "stream",
          "name": "stdout",
          "text": [
            "12345\n"
          ]
        }
      ]
    },
    {
      "cell_type": "code",
      "source": [
        "print(1,2,3,4,5)"
      ],
      "metadata": {
        "colab": {
          "base_uri": "https://localhost:8080/"
        },
        "id": "pTDq0w-Ta6I-",
        "outputId": "074b867f-4dea-4a4d-99e4-6321c9c2f33e"
      },
      "execution_count": null,
      "outputs": [
        {
          "output_type": "stream",
          "name": "stdout",
          "text": [
            "1 2 3 4 5\n"
          ]
        }
      ]
    },
    {
      "cell_type": "code",
      "source": [
        "print(\"1,2,3,4,5\")"
      ],
      "metadata": {
        "colab": {
          "base_uri": "https://localhost:8080/"
        },
        "id": "xELWjwNoa8So",
        "outputId": "c6deb0a2-f5da-4031-e65a-2ee362c1c3b3"
      },
      "execution_count": null,
      "outputs": [
        {
          "output_type": "stream",
          "name": "stdout",
          "text": [
            "1,2,3,4,5\n"
          ]
        }
      ]
    },
    {
      "cell_type": "code",
      "source": [
        "print(\"1,2,3\",4,5)"
      ],
      "metadata": {
        "colab": {
          "base_uri": "https://localhost:8080/"
        },
        "id": "pekxh0wmbDSB",
        "outputId": "b36b4ee4-cdcc-4b1f-881c-8b7a07eec1c4"
      },
      "execution_count": null,
      "outputs": [
        {
          "output_type": "stream",
          "name": "stdout",
          "text": [
            "1,2,3 4 5\n"
          ]
        }
      ]
    },
    {
      "cell_type": "code",
      "source": [
        "print(\"Welcome\",\"to\", \"Python\", \"Programming\" )"
      ],
      "metadata": {
        "colab": {
          "base_uri": "https://localhost:8080/"
        },
        "id": "jgCuqG_9bJjE",
        "outputId": "020fee0b-a71c-4e88-e27d-0ccb25a37bc4"
      },
      "execution_count": null,
      "outputs": [
        {
          "output_type": "stream",
          "name": "stdout",
          "text": [
            "Welcome to Python Programming\n"
          ]
        }
      ]
    },
    {
      "cell_type": "code",
      "source": [
        "print(12345,6789)"
      ],
      "metadata": {
        "colab": {
          "base_uri": "https://localhost:8080/"
        },
        "id": "sgTU1SmNbWt5",
        "outputId": "57af1a8c-1105-45b2-ca54-778ef577608e"
      },
      "execution_count": null,
      "outputs": [
        {
          "output_type": "stream",
          "name": "stdout",
          "text": [
            "12345 6789\n"
          ]
        }
      ]
    },
    {
      "cell_type": "code",
      "source": [
        "print(\"Hello! welcome to python world\", sep=\"@\")"
      ],
      "metadata": {
        "colab": {
          "base_uri": "https://localhost:8080/"
        },
        "id": "ZKSao9VjbbR2",
        "outputId": "595ef27c-f74c-421f-f858-3ee2b653830a"
      },
      "execution_count": null,
      "outputs": [
        {
          "output_type": "stream",
          "name": "stdout",
          "text": [
            "Hello! welcome to python world\n"
          ]
        }
      ]
    },
    {
      "cell_type": "code",
      "source": [
        "print(\"Hello!\", \"welcome to python world\", sep=\"@\")"
      ],
      "metadata": {
        "colab": {
          "base_uri": "https://localhost:8080/"
        },
        "id": "DfndEzBmbnO2",
        "outputId": "59a02310-0e81-4146-f0e2-6f79d749088c"
      },
      "execution_count": null,
      "outputs": [
        {
          "output_type": "stream",
          "name": "stdout",
          "text": [
            "Hello!@welcome to python world\n"
          ]
        }
      ]
    },
    {
      "cell_type": "code",
      "source": [
        "print(\"Hello!\", \"welcome\" \"to\", \"python\", \"world\", sep=\"@\")"
      ],
      "metadata": {
        "colab": {
          "base_uri": "https://localhost:8080/"
        },
        "id": "YdlZwdD1b5D9",
        "outputId": "b60203ee-bdca-411c-c83e-fd221cbe7692"
      },
      "execution_count": null,
      "outputs": [
        {
          "output_type": "stream",
          "name": "stdout",
          "text": [
            "Hello!@welcometo@python@world\n"
          ]
        }
      ]
    },
    {
      "cell_type": "code",
      "source": [
        "print(\"Hello\");print(\"World\")"
      ],
      "metadata": {
        "colab": {
          "base_uri": "https://localhost:8080/"
        },
        "id": "o0ZRx580cLsx",
        "outputId": "d8d61332-bdb6-43e0-9470-41943a400582"
      },
      "execution_count": null,
      "outputs": [
        {
          "output_type": "stream",
          "name": "stdout",
          "text": [
            "Hello\n",
            "World\n"
          ]
        }
      ]
    },
    {
      "cell_type": "code",
      "source": [
        "print(\"Hello\",end=\" \");print(\"World\")"
      ],
      "metadata": {
        "colab": {
          "base_uri": "https://localhost:8080/"
        },
        "id": "Q_0Mg7jQcYLr",
        "outputId": "754afee9-8586-4f7e-f1d9-a5f18deb8e29"
      },
      "execution_count": null,
      "outputs": [
        {
          "output_type": "stream",
          "name": "stdout",
          "text": [
            "Hello World\n"
          ]
        }
      ]
    },
    {
      "cell_type": "code",
      "source": [
        "print(\"Hello\",end=\"^^\");print(\"World\")"
      ],
      "metadata": {
        "colab": {
          "base_uri": "https://localhost:8080/"
        },
        "id": "sOQ67hUycfkv",
        "outputId": "67caa325-554e-4035-d2b2-b8e33f9f811b"
      },
      "execution_count": null,
      "outputs": [
        {
          "output_type": "stream",
          "name": "stdout",
          "text": [
            "Hello^^World\n"
          ]
        }
      ]
    },
    {
      "cell_type": "code",
      "source": [
        "print(\"Hello\",end=\"++\");print(\"World\",end=\"__\")"
      ],
      "metadata": {
        "colab": {
          "base_uri": "https://localhost:8080/"
        },
        "id": "3_5S3COccmhw",
        "outputId": "fe90c2a4-238e-4259-af31-c96d2625eb54"
      },
      "execution_count": null,
      "outputs": [
        {
          "output_type": "stream",
          "name": "stdout",
          "text": [
            "Hello++World__"
          ]
        }
      ]
    },
    {
      "cell_type": "code",
      "source": [
        "a = input()"
      ],
      "metadata": {
        "colab": {
          "base_uri": "https://localhost:8080/"
        },
        "id": "eB9xWp38coSZ",
        "outputId": "f41173ff-6d91-46c2-f428-e7a46e63feb3"
      },
      "execution_count": null,
      "outputs": [
        {
          "name": "stdout",
          "output_type": "stream",
          "text": [
            "a\n"
          ]
        }
      ]
    },
    {
      "cell_type": "code",
      "source": [
        "x = input(\"Enter any value: \")"
      ],
      "metadata": {
        "colab": {
          "base_uri": "https://localhost:8080/"
        },
        "id": "TItksg3ndClH",
        "outputId": "da59e4c7-26ab-4227-a5a1-e52582e17557"
      },
      "execution_count": null,
      "outputs": [
        {
          "output_type": "stream",
          "name": "stdout",
          "text": [
            "Enter any value: 12\n",
            "12\n"
          ]
        }
      ]
    },
    {
      "cell_type": "code",
      "source": [
        "x"
      ],
      "metadata": {
        "colab": {
          "base_uri": "https://localhost:8080/",
          "height": 35
        },
        "id": "A0oJSZoRdtxg",
        "outputId": "8b5f1de2-ddd6-4009-b843-107f307ee302"
      },
      "execution_count": null,
      "outputs": [
        {
          "output_type": "execute_result",
          "data": {
            "text/plain": [
              "'12'"
            ],
            "application/vnd.google.colaboratory.intrinsic+json": {
              "type": "string"
            }
          },
          "metadata": {},
          "execution_count": 61
        }
      ]
    },
    {
      "cell_type": "code",
      "source": [
        "y = input(\"Enter any number: \")"
      ],
      "metadata": {
        "colab": {
          "base_uri": "https://localhost:8080/"
        },
        "id": "JusxW_L2dKZm",
        "outputId": "8cd52ec6-84f8-4702-eef6-bacbc2406a7d"
      },
      "execution_count": null,
      "outputs": [
        {
          "name": "stdout",
          "output_type": "stream",
          "text": [
            "Enter any number: 23\n"
          ]
        }
      ]
    },
    {
      "cell_type": "code",
      "source": [
        "y"
      ],
      "metadata": {
        "colab": {
          "base_uri": "https://localhost:8080/",
          "height": 35
        },
        "id": "4wTNerJDdcWw",
        "outputId": "f6c11afa-9ea3-4527-8073-a75574d412de"
      },
      "execution_count": null,
      "outputs": [
        {
          "output_type": "execute_result",
          "data": {
            "text/plain": [
              "'23'"
            ],
            "application/vnd.google.colaboratory.intrinsic+json": {
              "type": "string"
            }
          },
          "metadata": {},
          "execution_count": 60
        }
      ]
    },
    {
      "cell_type": "code",
      "source": [
        "x+y"
      ],
      "metadata": {
        "colab": {
          "base_uri": "https://localhost:8080/",
          "height": 35
        },
        "id": "0ppOPDJqdmy1",
        "outputId": "8b7a1fbd-0343-4f9e-95c3-489dfb112194"
      },
      "execution_count": null,
      "outputs": [
        {
          "output_type": "execute_result",
          "data": {
            "text/plain": [
              "'1223'"
            ],
            "application/vnd.google.colaboratory.intrinsic+json": {
              "type": "string"
            }
          },
          "metadata": {},
          "execution_count": 62
        }
      ]
    },
    {
      "cell_type": "code",
      "source": [
        "x = input().split()"
      ],
      "metadata": {
        "colab": {
          "base_uri": "https://localhost:8080/"
        },
        "id": "p3NYyq6jdzc3",
        "outputId": "aaf262ed-432f-494f-a43d-e9ff2d6bbe63"
      },
      "execution_count": null,
      "outputs": [
        {
          "name": "stdout",
          "output_type": "stream",
          "text": [
            "10 20 30\n"
          ]
        }
      ]
    },
    {
      "cell_type": "code",
      "source": [
        "x"
      ],
      "metadata": {
        "colab": {
          "base_uri": "https://localhost:8080/"
        },
        "id": "hzyL6yZOd-Ac",
        "outputId": "2ac42427-1880-4052-c667-e9057935dec4"
      },
      "execution_count": null,
      "outputs": [
        {
          "output_type": "execute_result",
          "data": {
            "text/plain": [
              "['10', '20', '30']"
            ]
          },
          "metadata": {},
          "execution_count": 67
        }
      ]
    },
    {
      "cell_type": "code",
      "source": [
        "import os \n",
        "os.getcwd()"
      ],
      "metadata": {
        "colab": {
          "base_uri": "https://localhost:8080/",
          "height": 35
        },
        "id": "pHZzyWxreIEq",
        "outputId": "5ed3acde-2bf0-4788-efb9-179491be5eb9"
      },
      "execution_count": null,
      "outputs": [
        {
          "output_type": "execute_result",
          "data": {
            "text/plain": [
              "'/content'"
            ],
            "application/vnd.google.colaboratory.intrinsic+json": {
              "type": "string"
            }
          },
          "metadata": {},
          "execution_count": 69
        }
      ]
    },
    {
      "cell_type": "code",
      "source": [
        "import keyword\n",
        "print(keyword.kwlist)"
      ],
      "metadata": {
        "colab": {
          "base_uri": "https://localhost:8080/"
        },
        "id": "DJ4Kf9mBeXrj",
        "outputId": "31b8c19d-afd9-4d21-a5dc-21c9ab26d17b"
      },
      "execution_count": null,
      "outputs": [
        {
          "output_type": "stream",
          "name": "stdout",
          "text": [
            "['False', 'None', 'True', 'and', 'as', 'assert', 'async', 'await', 'break', 'class', 'continue', 'def', 'del', 'elif', 'else', 'except', 'finally', 'for', 'from', 'global', 'if', 'import', 'in', 'is', 'lambda', 'nonlocal', 'not', 'or', 'pass', 'raise', 'return', 'try', 'while', 'with', 'yield']\n"
          ]
        }
      ]
    },
    {
      "cell_type": "code",
      "source": [
        "import sys\n",
        "print(sys.platform)\n",
        "print(sys.path)\n",
        "print(sys.version)"
      ],
      "metadata": {
        "colab": {
          "base_uri": "https://localhost:8080/"
        },
        "id": "T6X4lYJXejK0",
        "outputId": "4154aa0f-d0b8-4b3c-cd0a-ecefc314c966"
      },
      "execution_count": null,
      "outputs": [
        {
          "output_type": "stream",
          "name": "stdout",
          "text": [
            "linux\n",
            "['/content', '/env/python', '/usr/lib/python38.zip', '/usr/lib/python3.8', '/usr/lib/python3.8/lib-dynload', '', '/usr/local/lib/python3.8/dist-packages', '/usr/lib/python3/dist-packages', '/usr/local/lib/python3.8/dist-packages/IPython/extensions', '/root/.ipython']\n",
            "3.8.16 (default, Dec  7 2022, 01:12:13) \n",
            "[GCC 7.5.0]\n"
          ]
        }
      ]
    },
    {
      "cell_type": "code",
      "source": [
        "import platform\n",
        "platform.python_version()"
      ],
      "metadata": {
        "colab": {
          "base_uri": "https://localhost:8080/",
          "height": 35
        },
        "id": "Xhe_BKP8ew9E",
        "outputId": "26c0713c-7e74-48b9-bada-9e61c33dabe7"
      },
      "execution_count": null,
      "outputs": [
        {
          "output_type": "execute_result",
          "data": {
            "text/plain": [
              "'3.8.16'"
            ],
            "application/vnd.google.colaboratory.intrinsic+json": {
              "type": "string"
            }
          },
          "metadata": {},
          "execution_count": 1
        }
      ]
    },
    {
      "cell_type": "code",
      "source": [
        "import this"
      ],
      "metadata": {
        "colab": {
          "base_uri": "https://localhost:8080/"
        },
        "id": "-kEJoPP6fcBy",
        "outputId": "e503cfb8-947c-4e28-d1f9-d2e407ae9ef3"
      },
      "execution_count": null,
      "outputs": [
        {
          "output_type": "stream",
          "name": "stdout",
          "text": [
            "The Zen of Python, by Tim Peters\n",
            "\n",
            "Beautiful is better than ugly.\n",
            "Explicit is better than implicit.\n",
            "Simple is better than complex.\n",
            "Complex is better than complicated.\n",
            "Flat is better than nested.\n",
            "Sparse is better than dense.\n",
            "Readability counts.\n",
            "Special cases aren't special enough to break the rules.\n",
            "Although practicality beats purity.\n",
            "Errors should never pass silently.\n",
            "Unless explicitly silenced.\n",
            "In the face of ambiguity, refuse the temptation to guess.\n",
            "There should be one-- and preferably only one --obvious way to do it.\n",
            "Although that way may not be obvious at first unless you're Dutch.\n",
            "Now is better than never.\n",
            "Although never is often better than *right* now.\n",
            "If the implementation is hard to explain, it's a bad idea.\n",
            "If the implementation is easy to explain, it may be a good idea.\n",
            "Namespaces are one honking great idea -- let's do more of those!\n"
          ]
        }
      ]
    },
    {
      "cell_type": "code",
      "source": [
        "a=int(input(\"Enter any Number:   \"))\n",
        "b=int(input(\"Enter any Number:   \"))\n",
        "c=a+b\n",
        "\n"
      ],
      "metadata": {
        "id": "DZOdHA8OffC7",
        "colab": {
          "base_uri": "https://localhost:8080/"
        },
        "outputId": "1503b5e1-9f83-4aa8-dbee-fdeca1a6e834"
      },
      "execution_count": null,
      "outputs": [
        {
          "name": "stdout",
          "output_type": "stream",
          "text": [
            "Enter any Number:   12\n",
            "Enter any Number:   13\n"
          ]
        }
      ]
    },
    {
      "cell_type": "code",
      "source": [
        "print(\"The Result is: \",c)"
      ],
      "metadata": {
        "colab": {
          "base_uri": "https://localhost:8080/"
        },
        "id": "YXPvh7lW3oAh",
        "outputId": "c6d2bc14-28ca-4e39-a21f-3ecb35adab55"
      },
      "execution_count": null,
      "outputs": [
        {
          "output_type": "stream",
          "name": "stdout",
          "text": [
            "The Result is:  25\n"
          ]
        }
      ]
    },
    {
      "cell_type": "code",
      "source": [
        "d=a*b\n",
        "print(\"The Result is: \",d)"
      ],
      "metadata": {
        "colab": {
          "base_uri": "https://localhost:8080/"
        },
        "id": "fA6ibLlD32Wt",
        "outputId": "1817358e-5c21-4a9a-d474-11e9cf59f266"
      },
      "execution_count": null,
      "outputs": [
        {
          "output_type": "stream",
          "name": "stdout",
          "text": [
            "The Result is:  156\n"
          ]
        }
      ]
    },
    {
      "cell_type": "code",
      "source": [
        "e=a-b\n",
        "print(\"The result is: \", e)"
      ],
      "metadata": {
        "colab": {
          "base_uri": "https://localhost:8080/"
        },
        "id": "Ml3bRoCN4GRX",
        "outputId": "7dc5df8a-7047-47e0-fa80-ce6dcdbf92dd"
      },
      "execution_count": null,
      "outputs": [
        {
          "output_type": "stream",
          "name": "stdout",
          "text": [
            "The result is:  -1\n"
          ]
        }
      ]
    },
    {
      "cell_type": "code",
      "source": [
        "f=a/b\n",
        "print(\"The Result is:\",f)"
      ],
      "metadata": {
        "colab": {
          "base_uri": "https://localhost:8080/"
        },
        "id": "X9_F6G4w4OC4",
        "outputId": "3ab09305-c052-4f6a-cf8e-79aacfea4e9b"
      },
      "execution_count": null,
      "outputs": [
        {
          "output_type": "stream",
          "name": "stdout",
          "text": [
            "The Result is: 0.9230769230769231\n"
          ]
        }
      ]
    },
    {
      "cell_type": "code",
      "source": [
        "#Variable in Python\n",
        "#Illegal variable\n",
        "45ABC=\"Hello\"\n",
        "hello@= 1234\n",
        "class= \"Core Python\"\n",
        "True = 123\n",
        "False = 345\n",
        "None = \"hello to python world\"\n",
        "12_ab = \"Enter Any Number:  \""
      ],
      "metadata": {
        "colab": {
          "base_uri": "https://localhost:8080/",
          "height": 135
        },
        "id": "tPY4gJU64XUB",
        "outputId": "d8d57557-1bdc-4dc4-ee7a-5b87281438e4"
      },
      "execution_count": null,
      "outputs": [
        {
          "output_type": "error",
          "ename": "SyntaxError",
          "evalue": "ignored",
          "traceback": [
            "\u001b[0;36m  File \u001b[0;32m\"<ipython-input-8-37cfbdb9720f>\"\u001b[0;36m, line \u001b[0;32m3\u001b[0m\n\u001b[0;31m    45ABC=\"Hello\"\u001b[0m\n\u001b[0m      ^\u001b[0m\n\u001b[0;31mSyntaxError\u001b[0m\u001b[0;31m:\u001b[0m invalid syntax\n"
          ]
        }
      ]
    },
    {
      "cell_type": "code",
      "source": [
        "#camel & pascal case\n",
        "\"iphone\", \"eBay\", \"FedEx\", \"helloWorld\", \"HelloWorld\", \"HelloToPython\""
      ],
      "metadata": {
        "colab": {
          "base_uri": "https://localhost:8080/"
        },
        "id": "l4oMgay85F8g",
        "outputId": "b56e3237-1e16-4249-8cf5-74edefcc1210"
      },
      "execution_count": null,
      "outputs": [
        {
          "output_type": "execute_result",
          "data": {
            "text/plain": [
              "('iphone', 'eBay', 'FedEx', 'helloWorld', 'HelloWorld', 'HelloToPython')"
            ]
          },
          "metadata": {},
          "execution_count": 9
        }
      ]
    },
    {
      "cell_type": "code",
      "source": [
        "#Examples\n",
        "Age = 30 #Valid\n",
        "age30 = \"Ram\"#valid\n",
        "30Age = \"RAM\"#invalid because it contains integer value\n",
        "@Age = \"Shayam\"#invalid because it contains special character\n",
        "age_ = \"Mohan\"#Valid\n",
        "#Age=32 #Invalid it contains # which represnt comment in python\n",
        "for = \"Hello to Python World\"#Invalid it contains inbuilt keywords "
      ],
      "metadata": {
        "colab": {
          "base_uri": "https://localhost:8080/",
          "height": 135
        },
        "id": "KqLYntQp6bnj",
        "outputId": "2e58d548-f911-4934-8f87-019ed4832865"
      },
      "execution_count": null,
      "outputs": [
        {
          "output_type": "error",
          "ename": "SyntaxError",
          "evalue": "ignored",
          "traceback": [
            "\u001b[0;36m  File \u001b[0;32m\"<ipython-input-12-d7f1a6949358>\"\u001b[0;36m, line \u001b[0;32m4\u001b[0m\n\u001b[0;31m    30Age = \"RAM\"#invalid because it contains integer value\u001b[0m\n\u001b[0m      ^\u001b[0m\n\u001b[0;31mSyntaxError\u001b[0m\u001b[0;31m:\u001b[0m invalid syntax\n"
          ]
        }
      ]
    },
    {
      "cell_type": "code",
      "source": [
        "#Constants example \n",
        "PYSTR= \"HELLO TO PYTHON WORLD\"#String literals\n",
        "PYSTR= \"Hello To Python World\"#String literals\n",
        "PYSTR= \"hello to python world\"#String literals\n",
        "PYFLOAT= 20.23#Interger literals\n",
        "PYCOM= 3+2j#Complex literals\n",
        "PYBOOL=True #Boolean Literals\n",
        "PYBOOL= False #Boolean Literals\n",
        "PYSPE= None#Special Literals\n",
        "PYLIST=[12,13,14,15,16]#List Literals \n",
        "PYTUPLE=(\"Hello\",\"to\",\"Python\",\"World\")#Tuple Literals\n",
        "PYSET={\"HEllo\", \"to\", \"Python\", \"World\", \"Version\", 3.9}##Set Literals\n",
        "PYDIC={1:\"Hello\",2:\"to\",3:\"Python\",4:\"World\" }#Dictionary Literals "
      ],
      "metadata": {
        "id": "fxuzDUdo6gtX"
      },
      "execution_count": 1,
      "outputs": []
    },
    {
      "cell_type": "code",
      "source": [
        "#Declaration of an object or instance or ref\n",
        "PyInt= 100 #int Object \n",
        "print(type(PyInt))\n",
        "print(PyInt)"
      ],
      "metadata": {
        "colab": {
          "base_uri": "https://localhost:8080/"
        },
        "id": "W8A2CMg8MqFV",
        "outputId": "209e550b-2f53-4ff5-f3ff-890639e6625f"
      },
      "execution_count": 3,
      "outputs": [
        {
          "output_type": "stream",
          "name": "stdout",
          "text": [
            "<class 'int'>\n",
            "100\n"
          ]
        }
      ]
    },
    {
      "cell_type": "code",
      "source": [
        "PyFloat = 34.456 #Float Object\n",
        "print(type(PyFloat))\n",
        "print(PyFloat)"
      ],
      "metadata": {
        "colab": {
          "base_uri": "https://localhost:8080/"
        },
        "id": "Nq1-YolcM_q_",
        "outputId": "5a3c69a8-72b3-41c5-eb0c-2eeead90b1f0"
      },
      "execution_count": 4,
      "outputs": [
        {
          "output_type": "stream",
          "name": "stdout",
          "text": [
            "<class 'float'>\n",
            "34.456\n"
          ]
        }
      ]
    },
    {
      "cell_type": "code",
      "source": [
        "PyStr=\"Hello to Python Programming\"#String Object\n",
        "print(type(PyStr))\n",
        "print(PyStr)"
      ],
      "metadata": {
        "colab": {
          "base_uri": "https://localhost:8080/"
        },
        "id": "BMJUaZWfNTnU",
        "outputId": "14fe72ef-ce82-4a98-b735-450cd430a78b"
      },
      "execution_count": 7,
      "outputs": [
        {
          "output_type": "stream",
          "name": "stdout",
          "text": [
            "<class 'str'>\n",
            "Hello to Python Programming\n"
          ]
        }
      ]
    },
    {
      "cell_type": "code",
      "source": [
        "PyList1=[11,22,33,44,55,66] #List Object \n",
        "PyList2=[\"Hello\",\"to\",\"Python\",\"World\"]#List Object\n",
        "PyList3=[12.3,12.4,12.5,12.6,12.7]#List Object\n",
        "PyList4= [11,12,\"hello\",\"to\",12.11,23,678,\"python\",\"World\"]\n",
        "print(PyList1);print(PyList2);print(PyList3);print(PyList4)\n",
        "print(type(PyList1));print(type(PyList2));print(type(PyList3));print(type(PyList4))"
      ],
      "metadata": {
        "colab": {
          "base_uri": "https://localhost:8080/"
        },
        "id": "REdJeCutNenB",
        "outputId": "35e68e78-e734-492c-d6b8-38ff541227fc"
      },
      "execution_count": 10,
      "outputs": [
        {
          "output_type": "stream",
          "name": "stdout",
          "text": [
            "[11, 22, 33, 44, 55, 66]\n",
            "['Hello', 'to', 'Python', 'World']\n",
            "[12.3, 12.4, 12.5, 12.6, 12.7]\n",
            "[11, 12, 'hello', 'to', 12.11, 23, 678, 'python', 'World']\n",
            "<class 'list'>\n",
            "<class 'list'>\n",
            "<class 'list'>\n",
            "<class 'list'>\n"
          ]
        }
      ]
    },
    {
      "cell_type": "code",
      "source": [
        "PyTuple1=(\"Hello\",\"to\",\"Python\",\"Programming\")\n",
        "PyTuple2=(12,24,36,48,60,72)\n",
        "PyTuple3=(12.24,36.48,60.72,84.96)\n",
        "PyTuple4=(\"Hello\",\"to\",12,24,36,12.24,36.48,60.72,\"Python\",\"Programming\")\n",
        "print(type(PyTuple1));print(type(PyTuple2));print(type(PyTuple3));print(type(PyTuple4))\n",
        "print(PyTuple1);print(PyTuple2);print(PyTuple3);print(PyTuple4)"
      ],
      "metadata": {
        "colab": {
          "base_uri": "https://localhost:8080/"
        },
        "id": "uIkZ12-XOjLX",
        "outputId": "b3eb4a6e-806d-418d-e2ee-3d0c2d76878f"
      },
      "execution_count": 13,
      "outputs": [
        {
          "output_type": "stream",
          "name": "stdout",
          "text": [
            "<class 'tuple'>\n",
            "<class 'tuple'>\n",
            "<class 'tuple'>\n",
            "<class 'tuple'>\n",
            "('Hello', 'to', 'Python', 'Programming')\n",
            "(12, 24, 36, 48, 60, 72)\n",
            "(12.24, 36.48, 60.72, 84.96)\n",
            "('Hello', 'to', 12, 24, 36, 12.24, 36.48, 60.72, 'Python', 'Programming')\n"
          ]
        }
      ]
    },
    {
      "cell_type": "code",
      "source": [
        "PySet1={\"Hello\",\"to\",\"Python\",\"Programming\"}\n",
        "PySet2={10,20,30,40,50,60,70}\n",
        "PySet3={10.11,20.22,30.33,40.44,50.55}\n",
        "PySet4={\"Hello\",\"to\",10,20,30,\"Python\",10.11,20.22,\"World\"}\n",
        "\n",
        "print(type(PySet1));print(type(PySet2));print(type(PySet3));print(type(PySet4))\n",
        "print(PySet1);print(PySet2);print(PySet3);print(PySet4)"
      ],
      "metadata": {
        "colab": {
          "base_uri": "https://localhost:8080/"
        },
        "id": "sCL9IbtzPz_g",
        "outputId": "14750317-73a0-40ab-f800-f1e78df9c15d"
      },
      "execution_count": 19,
      "outputs": [
        {
          "output_type": "stream",
          "name": "stdout",
          "text": [
            "<class 'set'>\n",
            "<class 'set'>\n",
            "<class 'set'>\n",
            "<class 'set'>\n",
            "{'to', 'Programming', 'Python', 'Hello'}\n",
            "{70, 40, 10, 50, 20, 60, 30}\n",
            "{40.44, 10.11, 50.55, 20.22, 30.33}\n",
            "{10, 10.11, 'World', 'Python', 20, 20.22, 30, 'to', 'Hello'}\n"
          ]
        }
      ]
    },
    {
      "cell_type": "code",
      "source": [
        "PyDict1={1:1,2:22,3:333,4:4444,5:55555}\n",
        "PyDict2={1:1.11,2:2.22,3:3.333,4:4.4444}\n",
        "PyDict3={1:'Hello',2:\"to\",3:\"Python\",4:\"Programming\"}\n",
        "PyDict4={\"Hello\":1,\"to\":2,\"Python\":3,\"Programming\":4}\n",
        "print(type(PyDict1));print(type(PyDict2));print(type(PyDict3));print(type(PyDict4));\n",
        "print(PyDict1);print(PyDict2);print(PyDict3);print(PyDict4)"
      ],
      "metadata": {
        "colab": {
          "base_uri": "https://localhost:8080/"
        },
        "id": "4Nezw51WRxbc",
        "outputId": "ca7864c6-90ac-4201-b4b1-835205731b4e"
      },
      "execution_count": 1,
      "outputs": [
        {
          "output_type": "stream",
          "name": "stdout",
          "text": [
            "<class 'dict'>\n",
            "<class 'dict'>\n",
            "<class 'dict'>\n",
            "<class 'dict'>\n",
            "{1: 1, 2: 22, 3: 333, 4: 4444, 5: 55555}\n",
            "{1: 1.11, 2: 2.22, 3: 3.333, 4: 4.4444}\n",
            "{1: 'Hello', 2: 'to', 3: 'Python', 4: 'Programming'}\n",
            "{'Hello': 1, 'to': 2, 'Python': 3, 'Programming': 4}\n"
          ]
        }
      ]
    },
    {
      "cell_type": "code",
      "source": [],
      "metadata": {
        "id": "h3-7PSE_TUNS"
      },
      "execution_count": null,
      "outputs": []
    }
  ]
}